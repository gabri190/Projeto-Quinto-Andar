{
 "cells": [
  {
   "cell_type": "markdown",
   "metadata": {},
   "source": [
    "# Projeto-Lello Imóveis\n"
   ]
  },
  {
   "cell_type": "markdown",
   "metadata": {},
   "source": [
    "# Análise do preço de aparmentos São paulo pelo site lello Imóveis \n"
   ]
  },
  {
   "cell_type": "markdown",
   "metadata": {},
   "source": [
    "Alunos:\n",
    "\n",
    "<li>Gabriel de Araújo Alves \n",
    "<li>André Lima\n",
    "<li>Enzo Rodrigues\n",
    "\n"
   ]
  },
  {
   "cell_type": "markdown",
   "metadata": {},
   "source": [
    "# 1. Introdução"
   ]
  },
  {
   "cell_type": "markdown",
   "metadata": {},
   "source": [
    "## 1.1 Como verificar o preço?"
   ]
  },
  {
   "cell_type": "markdown",
   "metadata": {},
   "source": [
    "<ul>Sabemos que o setor imobiliário é um setor muito procurado ao longo dos anos e atualmente.Por isso, primeiro é necessário, a partir do site do quinto andar, e,considerando apartamentos da cidade de São Paulo, podemos traçar uma estimativa de preços médios de apartamentos ou casas considerando alguns fatores como:<ul/>\n",
    "        <li> Área da casa ou apartamento\n",
    "        <li> Número de quartos \n",
    "        <li> Bairro\n",
    "        <li> rua  "
   ]
  },
  {
   "cell_type": "markdown",
   "metadata": {},
   "source": [
    "## 1.2 Importando Bibliotecas necessárias"
   ]
  },
  {
   "cell_type": "code",
   "execution_count": 1,
   "metadata": {},
   "outputs": [],
   "source": [
    "\n",
    "%matplotlib inline\n",
    "import math\n",
    "import os\n",
    "import seaborn as sns\n",
    "import matplotlib as plt\n",
    "import numpy as np\n",
    "from numpy import arange\n",
    "import pandas as pd\n",
    "from random import randint\n",
    "# Remove warnings\n",
    "import warnings\n",
    "warnings.filterwarnings('ignore')\n",
    "from IPython.display import display, HTML  # Para ter melhor print.\n",
    "from math import *\n",
    "# para nos comunicarmos com a Web\n",
    "import requests\n",
    "\n",
    "# para extrair informações de páginas HTML\n",
    "import bs4\n",
    "from bs4 import BeautifulSoup\n",
    "\n",
    "\n",
    "# Modelos preditivos\n",
    "from sklearn.tree import DecisionTreeClassifier\n",
    "from sklearn.ensemble import RandomForestClassifier\n",
    "from sklearn.linear_model import LogisticRegression\n",
    "\n",
    "# Módulos complementares para os modelos preditivos\n",
    "from sklearn.model_selection import train_test_split \n",
    "from sklearn.model_selection import cross_val_score\n",
    "from sklearn import metrics\n",
    "from sklearn.metrics import plot_confusion_matrix\n",
    "\n",
    "import time\n",
    "\n",
    "from selenium import webdriver\n",
    "from selenium.webdriver.common.by import By\n",
    "from selenium.webdriver.common.keys import Keys\n",
    "from selenium.webdriver.support.ui import WebDriverWait\n",
    "from selenium.webdriver.support import expected_conditions as EC"
   ]
  },
  {
   "cell_type": "markdown",
   "metadata": {},
   "source": [
    "## 1.3 Extração de Dados"
   ]
  },
  {
   "cell_type": "markdown",
   "metadata": {},
   "source": [
    "## 1.3.1 Definindo cabeçalho User-Agent"
   ]
  },
  {
   "cell_type": "code",
   "execution_count": 2,
   "metadata": {},
   "outputs": [],
   "source": [
    "headers = ({'User-Agent':\n",
    "            'Mozilla/5.0 (Windows NT 6.1) AppleWebKit/537.36 (KHTML, like Gecko) Chrome/41.0.2228.0 Safari/537.36'})"
   ]
  },
  {
   "cell_type": "markdown",
   "metadata": {},
   "source": [
    "## 1.3.2 Definindo Url de Busca"
   ]
  },
  {
   "cell_type": "code",
   "execution_count": 3,
   "metadata": {},
   "outputs": [],
   "source": [
    "url = 'https://www.lelloimoveis.com.br/venda/residencial/1-pagina/'"
   ]
  },
  {
   "cell_type": "markdown",
   "metadata": {},
   "source": [
    "## 1.3.3 Utilizando *requests* para baixar a página do Lello Imóveis\n",
    "\n",
    "Com o uso da biblioteca **requests**, podemos obter o **HTML** das páginas da LelloImóveis."
   ]
  },
  {
   "cell_type": "code",
   "execution_count": 4,
   "metadata": {},
   "outputs": [],
   "source": [
    "url = 'https://www.lelloimoveis.com.br/venda/residencial/1-pagina/'#considerando só a primeira página\n",
    "resposta = requests.get(url = url, headers=headers)\n",
    "resposta.json\n",
    "\n",
    "resposta.encoding = 'utf-8'\n",
    "\n",
    "# resposta.text"
   ]
  },
  {
   "cell_type": "markdown",
   "metadata": {},
   "source": [
    "## 1.3.4 Extraindo informações relevantes com *BeautifulSoup*\n",
    "\n",
    "Perceba que o HTML inclui uma grande quantidade de tags, o que dificulta identificar informações relevantes de forma direta. Com o auxílio da biblioteca **BeautifulSoup** podemos extrair facilmente as informações que desejamos."
   ]
  },
  {
   "cell_type": "code",
   "execution_count": 5,
   "metadata": {},
   "outputs": [],
   "source": [
    "soup = BeautifulSoup(resposta.text, 'html.parser')"
   ]
  },
  {
   "cell_type": "markdown",
   "metadata": {},
   "source": [
    "## 1.3.5 Utilizando *requests* para baixar a página do LelloImóveis\n",
    "\n",
    "Com o uso da biblioteca **requests**, podemos obter o **HTML** da página do Quinto Andar."
   ]
  },
  {
   "cell_type": "code",
   "execution_count": 6,
   "metadata": {},
   "outputs": [],
   "source": [
    "# url ='https://www.lelloimoveis.com.br/venda/residencial/1-pagina/'\n",
    "resposta = requests.get(url = url, headers=headers)\n",
    "resposta.encoding = 'utf-8'\n",
    "soup = BeautifulSoup(resposta.content, 'html.parser')"
   ]
  },
  {
   "cell_type": "markdown",
   "metadata": {},
   "source": [
    "# 1.3.6-Considerando apenas a 1° página como exemplo"
   ]
  },
  {
   "cell_type": "code",
   "execution_count": 7,
   "metadata": {},
   "outputs": [
    {
     "name": "stdout",
     "output_type": "stream",
     "text": [
      "1\n"
     ]
    }
   ],
   "source": [
    "url = 'https://www.lelloimoveis.com.br/venda/residencial/1-pagina/'\n",
    "resposta = requests.get(url = url, headers=headers)\n",
    "\n",
    "ap = \"card-body\"  # Há no total 24 objetos com essa classe, mas os 12 primeiros são idênticos aos 12 últimos\n",
    "\n",
    "\n",
    "lista_total = []\n",
    "lista_aps = soup.find_all(class_=ap, limit=12)\n",
    "lista_total.append(lista_aps)\n",
    "print(len(lista_total)) #lista_total tem uma lista com os 12 elementos"
   ]
  },
  {
   "cell_type": "markdown",
   "metadata": {},
   "source": [
    "# 1.3.7-Pegando todas as páginas de apartamentos"
   ]
  },
  {
   "cell_type": "code",
   "execution_count": 8,
   "metadata": {},
   "outputs": [],
   "source": [
    "lista_aps = []\n",
    "for i in range(955):\n",
    "    url = 'https://www.lelloimoveis.com.br/venda/residencial/{}-pagina/'.format(i)\n",
    "    resposta = requests.get(url = url, headers=headers)\n",
    "    lista_aps.append(soup.find_all(class_=ap, limit=12))"
   ]
  },
  {
   "cell_type": "code",
   "execution_count": 9,
   "metadata": {},
   "outputs": [
    {
     "name": "stdout",
     "output_type": "stream",
     "text": [
      "955\n"
     ]
    }
   ],
   "source": [
    "print(len(lista_aps))  # lista_aps é uma lista composta de 954 listas, cada uma com 12 elementos: os valores de card-body "
   ]
  },
  {
   "cell_type": "code",
   "execution_count": 10,
   "metadata": {
    "scrolled": true
   },
   "outputs": [
    {
     "name": "stdout",
     "output_type": "stream",
     "text": [
      "11460\n"
     ]
    }
   ],
   "source": [
    "flat_list = [item for sublist in lista_aps for item in sublist]  # todos os elementos encontrados individualmente\n",
    "print(len(flat_list))"
   ]
  },
  {
   "cell_type": "markdown",
   "metadata": {},
   "source": [
    "# 1.3.8-Função para criação de dataFrame com informações relevantes e limpeza de dados"
   ]
  },
  {
   "cell_type": "code",
   "execution_count": 32,
   "metadata": {},
   "outputs": [],
   "source": [
    "def data(lista):\n",
    "    #listas necessárias\n",
    "    lista_tipo=[]\n",
    "    lista_rua=[]\n",
    "    lista_bairro=[]\n",
    "    lista_area=[]\n",
    "    lista_quartos=[]\n",
    "    lista_vagas=[]\n",
    "    lista_banheiros=[]\n",
    "    lista_aluguel_total=[]\n",
    "    \n",
    "\n",
    "\n",
    "    for i in range(0, len(lista)):\n",
    "        ap = lista[i]\n",
    "        \n",
    "        tipo=ap.find('div',attrs={'class': \"card-title h5\"}).text\n",
    "        lista_tipo.append(tipo)\n",
    "        \n",
    "        rua=ap.find('p',attrs={'class': \"text-truncate mb-0\"}).text\n",
    "        lista_rua.append(rua)\n",
    "        \n",
    "        bairro=ap.find('span',attrs={'class': \"card-text-neighborhood mt-1 text-truncate\"}).text.split(',')[0]\n",
    "        lista_bairro.append(bairro)\n",
    "        \n",
    "        area=int(ap.find('span',attrs={'class': \"tagItemstyle__TagValue-sc-13sggff-3 edPntf\"}).text.split(\"m²\")[0])\n",
    "        lista_area.append(area)\n",
    "        \n",
    "        quartos=int(ap.find('span',attrs={'class': \"tagItemstyle__ComplementValue-sc-13sggff-4 hERajv ml-0\"}).text.split(\" \")[0])\n",
    "        lista_quartos.append(quartos)\n",
    "        \n",
    "        vagas_carro=int(ap.find('span',attrs={'data-testid': \"realty-parking-lot-quantity\"}).text.split(\"Garagens\")[0])\n",
    "        lista_vagas.append(vagas_carro)\n",
    "        \n",
    "        banheiros=int(ap.find('span',attrs={'data-testid':\"realty-bathroom-quantity\"}).text.split(\"Banheiros\")[0])\n",
    "        lista_banheiros.append(banheiros)\n",
    "        \n",
    "        aluguel=int(ap.find('p',attrs={'class':\"mb-0 font-weight-bold\"}).text.split(\"R$\")[1].replace(\",\",\"\"))\n",
    "        lista_aluguel_total.append(aluguel)\n",
    "    \n",
    "    df = pd.DataFrame({'Tipo': lista_tipo,\n",
    "                   'Rua': lista_rua,\n",
    "                   'Bairro': lista_bairro,\n",
    "                   'Área': lista_area,\n",
    "                   'Quartos':lista_quartos,\n",
    "                    'Vagas':lista_vagas,\n",
    "                    'Banheiros':lista_banheiros,\n",
    "                   'Aluguel_total':lista_aluguel_total\n",
    "                  })\n",
    "        \n",
    "    return df\n"
   ]
  },
  {
   "cell_type": "markdown",
   "metadata": {},
   "source": [
    "# 1.3.9 Criando Dataframe com dados limpos"
   ]
  },
  {
   "cell_type": "code",
   "execution_count": null,
   "metadata": {},
   "outputs": [],
   "source": [
    "frame=data(flat_list)\n",
    "frame"
   ]
  },
  {
   "cell_type": "markdown",
   "metadata": {},
   "source": [
    "# 2 A"
   ]
  },
  {
   "cell_type": "code",
   "execution_count": 31,
   "metadata": {},
   "outputs": [
    {
     "data": {
      "text/plain": [
       "620000"
      ]
     },
     "execution_count": 31,
     "metadata": {},
     "output_type": "execute_result"
    }
   ],
   "source": []
  },
  {
   "cell_type": "code",
   "execution_count": null,
   "metadata": {},
   "outputs": [],
   "source": []
  }
 ],
 "metadata": {
  "interpreter": {
   "hash": "c4f92193806e2908606a5f23edd55a5282f2f433b73b1c504507f9256ed9f0b4"
  },
  "kernelspec": {
   "display_name": "Python 3",
   "language": "python",
   "name": "python3"
  },
  "language_info": {
   "codemirror_mode": {
    "name": "ipython",
    "version": 3
   },
   "file_extension": ".py",
   "mimetype": "text/x-python",
   "name": "python",
   "nbconvert_exporter": "python",
   "pygments_lexer": "ipython3",
   "version": "3.8.5"
  }
 },
 "nbformat": 4,
 "nbformat_minor": 4
}

{
 "cells": [
  {
   "cell_type": "markdown",
   "metadata": {},
   "source": [
    "# Projeto-Lello Imóveis\n"
   ]
  },
  {
   "cell_type": "markdown",
   "metadata": {},
   "source": [
    "# Análise do preço de aparmentos São paulo pelo site lello Imóveis \n"
   ]
  },
  {
   "cell_type": "markdown",
   "metadata": {},
   "source": [
    "Alunos:\n",
    "\n",
    "<li>Gabriel de Araújo Alves \n",
    "<li>André Lima\n",
    "<li>Enzo Rodrigues\n",
    "\n"
   ]
  },
  {
   "cell_type": "markdown",
   "metadata": {},
   "source": [
    "# 1. Introdução"
   ]
  },
  {
   "cell_type": "markdown",
   "metadata": {},
   "source": [
    "## 1.1 Como verificar o preço?"
   ]
  },
  {
   "cell_type": "markdown",
   "metadata": {},
   "source": [
    "<ul>Sabemos que o setor imobiliário é um setor muito procurado ao longo dos anos e atualmente.Por isso, primeiro é necessário, a partir do site do quinto andar, e,considerando apartamentos da cidade de São Paulo, podemos traçar uma estimativa de preços médios de apartamentos ou casas considerando alguns fatores como:<ul/>\n",
    "        <li> Área da casa ou apartamento\n",
    "        <li> Número de quartos \n",
    "        <li> Bairro\n",
    "        <li> rua  "
   ]
  },
  {
   "cell_type": "markdown",
   "metadata": {},
   "source": [
    "## 1.2 Importando Bibliotecas necessárias"
   ]
  },
  {
   "cell_type": "code",
   "execution_count": 1,
   "metadata": {},
   "outputs": [],
   "source": [
    "\n",
    "%matplotlib inline\n",
    "import math\n",
    "import os\n",
    "import seaborn as sns\n",
    "import matplotlib as plt\n",
    "import numpy as np\n",
    "from numpy import arange\n",
    "import pandas as pd\n",
    "from random import randint\n",
    "# Remove warnings\n",
    "import warnings\n",
    "warnings.filterwarnings('ignore')\n",
    "from IPython.display import display, HTML  # Para ter melhor print.\n",
    "from math import *\n",
    "# para nos comunicarmos com a Web\n",
    "import requests\n",
    "\n",
    "# para extrair informações de páginas HTML\n",
    "import bs4\n",
    "from bs4 import BeautifulSoup\n",
    "\n",
    "\n",
    "# Modelos preditivos\n",
    "from sklearn.tree import DecisionTreeClassifier\n",
    "from sklearn.ensemble import RandomForestClassifier\n",
    "from sklearn.linear_model import LogisticRegression\n",
    "\n",
    "# Módulos complementares para os modelos preditivos\n",
    "from sklearn.model_selection import train_test_split \n",
    "from sklearn.model_selection import cross_val_score\n",
    "from sklearn import metrics\n",
    "from sklearn.metrics import plot_confusion_matrix\n",
    "\n",
    "import time\n",
    "\n",
    "from selenium import webdriver\n",
    "from selenium.webdriver.common.by import By\n",
    "from selenium.webdriver.common.keys import Keys\n",
    "from selenium.webdriver.support.ui import WebDriverWait\n",
    "from selenium.webdriver.support import expected_conditions as EC"
   ]
  },
  {
   "cell_type": "markdown",
   "metadata": {},
   "source": [
    "## 1.3 Extração de Dados"
   ]
  },
  {
   "cell_type": "markdown",
   "metadata": {},
   "source": [
    "## 1.3.1 Definindo cabeçalho User-Agent"
   ]
  },
  {
   "cell_type": "code",
   "execution_count": 2,
   "metadata": {},
   "outputs": [],
   "source": [
    "headers = ({'User-Agent':\n",
    "            'Mozilla/5.0 (Windows NT 6.1) AppleWebKit/537.36 (KHTML, like Gecko) Chrome/41.0.2228.0 Safari/537.36'})"
   ]
  },
  {
   "cell_type": "markdown",
   "metadata": {},
   "source": [
    "## 1.3.2 Definindo Url de Busca"
   ]
  },
  {
   "cell_type": "code",
   "execution_count": 3,
   "metadata": {},
   "outputs": [],
   "source": [
    "url = 'https://www.lelloimoveis.com.br/venda/residencial/1-pagina/'"
   ]
  },
  {
   "cell_type": "markdown",
   "metadata": {},
   "source": [
    "## 1.3.3 Utilizando *requests* para baixar a página do Lello Imóveis\n",
    "\n",
    "Com o uso da biblioteca **requests**, podemos obter o **HTML** das páginas da LelloImóveis."
   ]
  },
  {
   "cell_type": "code",
   "execution_count": 4,
   "metadata": {},
   "outputs": [],
   "source": [
    "url = 'https://www.lelloimoveis.com.br/venda/residencial/1-pagina/'#considerando só a primeira página\n",
    "resposta = requests.get(url = url, headers=headers)\n",
    "resposta.json\n",
    "\n",
    "resposta.encoding = 'utf-8'\n",
    "\n",
    "# resposta.text"
   ]
  },
  {
   "cell_type": "markdown",
   "metadata": {},
   "source": [
    "## 1.3.4 Extraindo informações relevantes com *BeautifulSoup*\n",
    "\n",
    "Perceba que o HTML inclui uma grande quantidade de tags, o que dificulta identificar informações relevantes de forma direta. Com o auxílio da biblioteca **BeautifulSoup** podemos extrair facilmente as informações que desejamos."
   ]
  },
  {
   "cell_type": "code",
   "execution_count": 5,
   "metadata": {},
   "outputs": [],
   "source": [
    "soup = BeautifulSoup(resposta.text, 'html.parser')"
   ]
  },
  {
   "cell_type": "markdown",
   "metadata": {},
   "source": [
    "## 1.3.5 Utilizando *requests* para baixar a página do LelloImóveis\n",
    "\n",
    "Com o uso da biblioteca **requests**, podemos obter o **HTML** da página do Quinto Andar."
   ]
  },
  {
   "cell_type": "code",
   "execution_count": 6,
   "metadata": {},
   "outputs": [],
   "source": [
    "# url ='https://www.lelloimoveis.com.br/venda/residencial/1-pagina/'\n",
    "resposta = requests.get(url = url, headers=headers)\n",
    "resposta.encoding = 'utf-8'\n",
    "soup = BeautifulSoup(resposta.content, 'html.parser')"
   ]
  },
  {
   "cell_type": "markdown",
   "metadata": {},
   "source": [
    "# 1.3.6-Considerando apenas a 1° página como exemplo"
   ]
  },
  {
   "cell_type": "code",
   "execution_count": 7,
   "metadata": {},
   "outputs": [
    {
     "name": "stdout",
     "output_type": "stream",
     "text": [
      "1\n"
     ]
    }
   ],
   "source": [
    "url = 'https://www.lelloimoveis.com.br/venda/residencial/1-pagina/'\n",
    "resposta = requests.get(url = url, headers=headers)\n",
    "\n",
    "ap = \"card-body\"  # Há no total 24 objetos com essa classe, mas os 12 primeiros são idênticos aos 12 últimos\n",
    "\n",
    "\n",
    "lista_total = []\n",
    "lista_aps = soup.find_all(class_=ap, limit=12)\n",
    "lista_total.append(lista_aps)\n",
    "print(len(lista_total)) #lista_total tem uma lista com os 12 elementos"
   ]
  },
  {
   "cell_type": "markdown",
   "metadata": {},
   "source": [
    "# 1.3.7-Pegando todas as páginas de apartamentos"
   ]
  },
  {
   "cell_type": "code",
   "execution_count": 9,
   "metadata": {},
   "outputs": [],
   "source": [
    "lista_total = []\n",
    "for i in range(1,100):\n",
    "    url = 'https://www.lelloimoveis.com.br/venda/residencial/{}-pagina/'.format(i)\n",
    "    resposta = requests.get(url = url, headers=headers)\n",
    "    soup = BeautifulSoup(resposta.content, 'html.parser')\n",
    "    lista_aps = soup.find_all(class_=ap, limit=12)\n",
    "    lista_total.append(lista_aps)"
   ]
  },
  {
   "cell_type": "code",
   "execution_count": 10,
   "metadata": {
    "scrolled": true
   },
   "outputs": [],
   "source": [
    "#list_comprehension para todos os elementos(apartamentos da lista de páginas)\n",
    "flat_list = [item for sublist in lista_total for item in sublist]  # todos os elementos encontrados individualmente\n"
   ]
  },
  {
   "cell_type": "markdown",
   "metadata": {},
   "source": [
    "# 1.3.8-Função para criação de dataFrame com informações relevantes e limpeza de dados"
   ]
  },
  {
   "cell_type": "code",
   "execution_count": 11,
   "metadata": {},
   "outputs": [],
   "source": [
    "def data(lista):\n",
    "    #listas necessárias\n",
    "    lista_tipo=[]\n",
    "    lista_rua=[]\n",
    "    lista_bairro=[]\n",
    "    lista_area=[]\n",
    "    lista_quartos=[]\n",
    "    lista_vagas=[]\n",
    "    lista_banheiros=[]\n",
    "    lista_aluguel_total=[]\n",
    "    \n",
    "\n",
    "\n",
    "    for i in range(0, len(lista)):\n",
    "        ap = lista[i] #procura cada lista de apartamentos\n",
    "        #tipo do ap\n",
    "        tipo=ap.find('div',attrs={'class': \"card-title h5\"}).text\n",
    "        lista_tipo.append(tipo)\n",
    "        #rua\n",
    "        rua=ap.find('p',attrs={'class': \"text-truncate mb-0\"}).text\n",
    "        lista_rua.append(rua)\n",
    "        #bairro\n",
    "        bairro=ap.find('span',attrs={'class': \"card-text-neighborhood mt-1 text-truncate\"}).text.split(',')[0]\n",
    "        lista_bairro.append(bairro)\n",
    "        #area do ap\n",
    "        area=ap.find('span',attrs={'class': \"tagItemstyle__TagValue-sc-13sggff-3 edPntf\"})\n",
    "        if area==None:\n",
    "            area=0\n",
    "        else:\n",
    "            area=int(ap.find('span',attrs={'class': \"tagItemstyle__TagValue-sc-13sggff-3 edPntf\"}).text.split(\"m²\")[0])\n",
    "        lista_area.append(area)\n",
    "        \n",
    "        #numero de quartos\n",
    "        quartos=ap.find('span',attrs={'class': \"tagItemstyle__ComplementValue-sc-13sggff-4 hERajv ml-0\"})\n",
    "        if quartos==None:\n",
    "            quartos=0            \n",
    "        else:\n",
    "            quartos=int(ap.find('span',attrs={'class': \"tagItemstyle__ComplementValue-sc-13sggff-4 hERajv ml-0\"}).text.split(\" \")[0])\n",
    "        lista_quartos.append(quartos)\n",
    "        #numero de vagas de carro\n",
    "        vagas_carro=ap.find('span',attrs={'data-testid': \"realty-parking-lot-quantity\"})\n",
    "        if vagas_carro==None:\n",
    "            vagas_carro=0\n",
    "        else:\n",
    "            vagas_carro=int(ap.find('span',attrs={'data-testid': \"realty-parking-lot-quantity\"}).text.split(\"Garagens\")[0])\n",
    "        lista_vagas.append(vagas_carro)\n",
    "        \n",
    "        #numero de banheiros\n",
    "        banheiros=ap.find('span',attrs={'data-testid':\"realty-bathroom-quantity\"})\n",
    "        if banheiros==None:\n",
    "            banheiros=0\n",
    "        else:                \n",
    "            banheiros=int(ap.find('span',attrs={'data-testid':\"realty-bathroom-quantity\"}).text.split(\"Banheiros\")[0])\n",
    "        lista_banheiros.append(banheiros)\n",
    "        #valor do aluguel\n",
    "        aluguel=ap.find('p',attrs={'class':\"mb-0 font-weight-bold\"})\n",
    "        if aluguel==None:\n",
    "            aluguel=0\n",
    "        else:\n",
    "            aluguel=int(ap.find('p',attrs={'class':\"mb-0 font-weight-bold\"}).text.split(\"R$\")[1].replace(\",\",\"\"))\n",
    "        lista_aluguel_total.append(aluguel)\n",
    "    \n",
    "    df = pd.DataFrame({'Tipo': lista_tipo,\n",
    "                   'Rua': lista_rua,\n",
    "                   'Bairro': lista_bairro,\n",
    "                   'Área': lista_area,\n",
    "                   'Quartos':lista_quartos,\n",
    "                    'Vagas':lista_vagas,\n",
    "                    'Banheiros':lista_banheiros,\n",
    "                   'Preço de Venda':lista_aluguel_total\n",
    "                  })\n",
    "        \n",
    "    return df\n"
   ]
  },
  {
   "cell_type": "markdown",
   "metadata": {},
   "source": [
    "# 1.3.9 Criando Dataframe com dados limpos"
   ]
  },
  {
   "cell_type": "code",
   "execution_count": 14,
   "metadata": {},
   "outputs": [
    {
     "data": {
      "text/html": [
       "<div>\n",
       "<style scoped>\n",
       "    .dataframe tbody tr th:only-of-type {\n",
       "        vertical-align: middle;\n",
       "    }\n",
       "\n",
       "    .dataframe tbody tr th {\n",
       "        vertical-align: top;\n",
       "    }\n",
       "\n",
       "    .dataframe thead th {\n",
       "        text-align: right;\n",
       "    }\n",
       "</style>\n",
       "<table border=\"1\" class=\"dataframe\">\n",
       "  <thead>\n",
       "    <tr style=\"text-align: right;\">\n",
       "      <th></th>\n",
       "      <th>Tipo</th>\n",
       "      <th>Rua</th>\n",
       "      <th>Bairro</th>\n",
       "      <th>Área</th>\n",
       "      <th>Quartos</th>\n",
       "      <th>Vagas</th>\n",
       "      <th>Banheiros</th>\n",
       "      <th>Preço de Venda</th>\n",
       "    </tr>\n",
       "  </thead>\n",
       "  <tbody>\n",
       "    <tr>\n",
       "      <th>0</th>\n",
       "      <td>Apartamento</td>\n",
       "      <td>Rua dos Capitães Mores</td>\n",
       "      <td>Mooca</td>\n",
       "      <td>87</td>\n",
       "      <td>3</td>\n",
       "      <td>2</td>\n",
       "      <td>2</td>\n",
       "      <td>620000</td>\n",
       "    </tr>\n",
       "    <tr>\n",
       "      <th>1</th>\n",
       "      <td>Apartamento</td>\n",
       "      <td>Rua Dias Leme</td>\n",
       "      <td>Mooca</td>\n",
       "      <td>79</td>\n",
       "      <td>2</td>\n",
       "      <td>1</td>\n",
       "      <td>1</td>\n",
       "      <td>560000</td>\n",
       "    </tr>\n",
       "    <tr>\n",
       "      <th>2</th>\n",
       "      <td>Apartamento</td>\n",
       "      <td>Rua do Orfanato</td>\n",
       "      <td>Vila Prudente</td>\n",
       "      <td>59</td>\n",
       "      <td>2</td>\n",
       "      <td>1</td>\n",
       "      <td>1</td>\n",
       "      <td>460000</td>\n",
       "    </tr>\n",
       "    <tr>\n",
       "      <th>3</th>\n",
       "      <td>Apartamento</td>\n",
       "      <td>Rua Álvares de Azevedo</td>\n",
       "      <td>Centro</td>\n",
       "      <td>133</td>\n",
       "      <td>3</td>\n",
       "      <td>1</td>\n",
       "      <td>2</td>\n",
       "      <td>550000</td>\n",
       "    </tr>\n",
       "    <tr>\n",
       "      <th>4</th>\n",
       "      <td>Apartamento</td>\n",
       "      <td>Rua Dianópolis</td>\n",
       "      <td>Parque da Mooca</td>\n",
       "      <td>43</td>\n",
       "      <td>2</td>\n",
       "      <td>1</td>\n",
       "      <td>1</td>\n",
       "      <td>320000</td>\n",
       "    </tr>\n",
       "    <tr>\n",
       "      <th>...</th>\n",
       "      <td>...</td>\n",
       "      <td>...</td>\n",
       "      <td>...</td>\n",
       "      <td>...</td>\n",
       "      <td>...</td>\n",
       "      <td>...</td>\n",
       "      <td>...</td>\n",
       "      <td>...</td>\n",
       "    </tr>\n",
       "    <tr>\n",
       "      <th>1183</th>\n",
       "      <td>Apartamento</td>\n",
       "      <td>Rua Alves de Almeida</td>\n",
       "      <td>Chácara Belenzinho</td>\n",
       "      <td>49</td>\n",
       "      <td>2</td>\n",
       "      <td>1</td>\n",
       "      <td>2</td>\n",
       "      <td>383000</td>\n",
       "    </tr>\n",
       "    <tr>\n",
       "      <th>1184</th>\n",
       "      <td>Apartamento</td>\n",
       "      <td>Rua PIRACICABA</td>\n",
       "      <td>Vila Valparaíso</td>\n",
       "      <td>64</td>\n",
       "      <td>3</td>\n",
       "      <td>2</td>\n",
       "      <td>1</td>\n",
       "      <td>340000</td>\n",
       "    </tr>\n",
       "    <tr>\n",
       "      <th>1185</th>\n",
       "      <td>Apartamento</td>\n",
       "      <td>Rua George Chahestian</td>\n",
       "      <td>Vila Basileia</td>\n",
       "      <td>52</td>\n",
       "      <td>2</td>\n",
       "      <td>1</td>\n",
       "      <td>1</td>\n",
       "      <td>320000</td>\n",
       "    </tr>\n",
       "    <tr>\n",
       "      <th>1186</th>\n",
       "      <td>Apartamento</td>\n",
       "      <td>Rua Demini</td>\n",
       "      <td>Penha de França</td>\n",
       "      <td>50</td>\n",
       "      <td>2</td>\n",
       "      <td>1</td>\n",
       "      <td>0</td>\n",
       "      <td>350000</td>\n",
       "    </tr>\n",
       "    <tr>\n",
       "      <th>1187</th>\n",
       "      <td>Apartamento</td>\n",
       "      <td>Rua Moysés Cheidde</td>\n",
       "      <td>Jardim São Francisco</td>\n",
       "      <td>60</td>\n",
       "      <td>2</td>\n",
       "      <td>1</td>\n",
       "      <td>1</td>\n",
       "      <td>410000</td>\n",
       "    </tr>\n",
       "  </tbody>\n",
       "</table>\n",
       "<p>1188 rows × 8 columns</p>\n",
       "</div>"
      ],
      "text/plain": [
       "             Tipo                     Rua                Bairro  Área  \\\n",
       "0     Apartamento  Rua dos Capitães Mores                 Mooca    87   \n",
       "1     Apartamento           Rua Dias Leme                 Mooca    79   \n",
       "2     Apartamento         Rua do Orfanato         Vila Prudente    59   \n",
       "3     Apartamento  Rua Álvares de Azevedo                Centro   133   \n",
       "4     Apartamento          Rua Dianópolis       Parque da Mooca    43   \n",
       "...           ...                     ...                   ...   ...   \n",
       "1183  Apartamento    Rua Alves de Almeida    Chácara Belenzinho    49   \n",
       "1184  Apartamento          Rua PIRACICABA       Vila Valparaíso    64   \n",
       "1185  Apartamento   Rua George Chahestian         Vila Basileia    52   \n",
       "1186  Apartamento              Rua Demini       Penha de França    50   \n",
       "1187  Apartamento      Rua Moysés Cheidde  Jardim São Francisco    60   \n",
       "\n",
       "      Quartos  Vagas  Banheiros  Preço de Venda  \n",
       "0           3      2          2          620000  \n",
       "1           2      1          1          560000  \n",
       "2           2      1          1          460000  \n",
       "3           3      1          2          550000  \n",
       "4           2      1          1          320000  \n",
       "...       ...    ...        ...             ...  \n",
       "1183        2      1          2          383000  \n",
       "1184        3      2          1          340000  \n",
       "1185        2      1          1          320000  \n",
       "1186        2      1          0          350000  \n",
       "1187        2      1          1          410000  \n",
       "\n",
       "[1188 rows x 8 columns]"
      ]
     },
     "execution_count": 14,
     "metadata": {},
     "output_type": "execute_result"
    }
   ],
   "source": [
    "flat_list = [item for sublist in lista_total for item in sublist]  # todos os elementos encontrados individualmente\n",
    "frame=data(flat_list)\n",
    "frame"
   ]
  },
  {
   "cell_type": "markdown",
   "metadata": {},
   "source": [
    "### 1.4 -Rodando a base de dados trazida do excel(refazer essa parte)"
   ]
  },
  {
   "cell_type": "code",
   "execution_count": 13,
   "metadata": {},
   "outputs": [],
   "source": [
    "\n",
    "# import pandas as pd\n",
    "# new_frame=pd.read_excel(\"Database-LelloImoveis.xlsx\")\n",
    "# new_frame=new_frame.drop(['Unnamed: 0'], axis=1)\n",
    "# # new_frame=new_frame.drop(columns=new_frame['Unnamed:0'],axis=1)\n",
    "# new_frame"
   ]
  },
  {
   "cell_type": "markdown",
   "metadata": {},
   "source": [
    "# 2 Análise de Dados"
   ]
  },
  {
   "cell_type": "markdown",
   "metadata": {},
   "source": [
    "### 2.1 Verificação de Dados nulos na base"
   ]
  },
  {
   "cell_type": "code",
   "execution_count": 15,
   "metadata": {},
   "outputs": [
    {
     "data": {
      "text/plain": [
       "<AxesSubplot:>"
      ]
     },
     "execution_count": 15,
     "metadata": {},
     "output_type": "execute_result"
    },
    {
     "data": {
      "image/png": "[encoded data removed]",
      "text/plain": [
       "<Figure size 432x288 with 2 Axes>"
      ]
     },
     "metadata": {
      "needs_background": "light"
     },
     "output_type": "display_data"
    }
   ],
   "source": [
    "#utilização do heatmap para verificar dados nulos\n",
    "sns.heatmap(frame.isnull())"
   ]
  },
  {
   "cell_type": "markdown",
   "metadata": {},
   "source": [
    "### 2.2-Análise prévia das variáveis numéricas"
   ]
  },
  {
   "cell_type": "code",
   "execution_count": 16,
   "metadata": {},
   "outputs": [
    {
     "data": {
      "text/html": [
       "<div>\n",
       "<style scoped>\n",
       "    .dataframe tbody tr th:only-of-type {\n",
       "        vertical-align: middle;\n",
       "    }\n",
       "\n",
       "    .dataframe tbody tr th {\n",
       "        vertical-align: top;\n",
       "    }\n",
       "\n",
       "    .dataframe thead th {\n",
       "        text-align: right;\n",
       "    }\n",
       "</style>\n",
       "<table border=\"1\" class=\"dataframe\">\n",
       "  <thead>\n",
       "    <tr style=\"text-align: right;\">\n",
       "      <th></th>\n",
       "      <th>Área</th>\n",
       "      <th>Quartos</th>\n",
       "      <th>Vagas</th>\n",
       "      <th>Banheiros</th>\n",
       "      <th>Preço de Venda</th>\n",
       "    </tr>\n",
       "  </thead>\n",
       "  <tbody>\n",
       "    <tr>\n",
       "      <th>count</th>\n",
       "      <td>1188.000000</td>\n",
       "      <td>1188.000000</td>\n",
       "      <td>1188.000000</td>\n",
       "      <td>1188.000000</td>\n",
       "      <td>1188.000000</td>\n",
       "    </tr>\n",
       "    <tr>\n",
       "      <th>mean</th>\n",
       "      <td>74.452862</td>\n",
       "      <td>2.295455</td>\n",
       "      <td>1.141414</td>\n",
       "      <td>1.449495</td>\n",
       "      <td>511011.319024</td>\n",
       "    </tr>\n",
       "    <tr>\n",
       "      <th>std</th>\n",
       "      <td>26.197364</td>\n",
       "      <td>0.624746</td>\n",
       "      <td>0.546292</td>\n",
       "      <td>0.606042</td>\n",
       "      <td>203298.237394</td>\n",
       "    </tr>\n",
       "    <tr>\n",
       "      <th>min</th>\n",
       "      <td>20.000000</td>\n",
       "      <td>0.000000</td>\n",
       "      <td>0.000000</td>\n",
       "      <td>0.000000</td>\n",
       "      <td>300000.000000</td>\n",
       "    </tr>\n",
       "    <tr>\n",
       "      <th>25%</th>\n",
       "      <td>57.000000</td>\n",
       "      <td>2.000000</td>\n",
       "      <td>1.000000</td>\n",
       "      <td>1.000000</td>\n",
       "      <td>365000.000000</td>\n",
       "    </tr>\n",
       "    <tr>\n",
       "      <th>50%</th>\n",
       "      <td>68.000000</td>\n",
       "      <td>2.000000</td>\n",
       "      <td>1.000000</td>\n",
       "      <td>1.000000</td>\n",
       "      <td>430000.000000</td>\n",
       "    </tr>\n",
       "    <tr>\n",
       "      <th>75%</th>\n",
       "      <td>87.000000</td>\n",
       "      <td>3.000000</td>\n",
       "      <td>1.000000</td>\n",
       "      <td>2.000000</td>\n",
       "      <td>587000.000000</td>\n",
       "    </tr>\n",
       "    <tr>\n",
       "      <th>max</th>\n",
       "      <td>260.000000</td>\n",
       "      <td>4.000000</td>\n",
       "      <td>3.000000</td>\n",
       "      <td>4.000000</td>\n",
       "      <td>999000.000000</td>\n",
       "    </tr>\n",
       "  </tbody>\n",
       "</table>\n",
       "</div>"
      ],
      "text/plain": [
       "              Área      Quartos        Vagas    Banheiros  Preço de Venda\n",
       "count  1188.000000  1188.000000  1188.000000  1188.000000     1188.000000\n",
       "mean     74.452862     2.295455     1.141414     1.449495   511011.319024\n",
       "std      26.197364     0.624746     0.546292     0.606042   203298.237394\n",
       "min      20.000000     0.000000     0.000000     0.000000   300000.000000\n",
       "25%      57.000000     2.000000     1.000000     1.000000   365000.000000\n",
       "50%      68.000000     2.000000     1.000000     1.000000   430000.000000\n",
       "75%      87.000000     3.000000     1.000000     2.000000   587000.000000\n",
       "max     260.000000     4.000000     3.000000     4.000000   999000.000000"
      ]
     },
     "execution_count": 16,
     "metadata": {},
     "output_type": "execute_result"
    }
   ],
   "source": [
    "frame.describe()"
   ]
  },
  {
   "cell_type": "code",
   "execution_count": null,
   "metadata": {},
   "outputs": [],
   "source": []
  }
 ],
 "metadata": {
  "interpreter": {
   "hash": "c4f92193806e2908606a5f23edd55a5282f2f433b73b1c504507f9256ed9f0b4"
  },
  "kernelspec": {
   "display_name": "Python 3",
   "language": "python",
   "name": "python3"
  },
  "language_info": {
   "codemirror_mode": {
    "name": "ipython",
    "version": 3
   },
   "file_extension": ".py",
   "mimetype": "text/x-python",
   "name": "python",
   "nbconvert_exporter": "python",
   "pygments_lexer": "ipython3",
   "version": "3.8.5"
  }
 },
 "nbformat": 4,
 "nbformat_minor": 4
}
